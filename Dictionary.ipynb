{
  "nbformat": 4,
  "nbformat_minor": 0,
  "metadata": {
    "colab": {
      "provenance": []
    },
    "kernelspec": {
      "name": "python3",
      "display_name": "Python 3"
    },
    "language_info": {
      "name": "python"
    }
  },
  "cells": [
    {
      "cell_type": "code",
      "execution_count": null,
      "metadata": {
        "id": "bkmsw5DtAq-d"
      },
      "outputs": [],
      "source": [
        "#1) Create a dictionary with student ID and name pairs\n",
        "student_dict = {\n",
        "    101: \"Alice\",\n",
        "    102: \"Bob\",\n",
        "    103: \"Charlie\",\n",
        "    104: \"David\",\n",
        "    105: \"Eve\"\n",
        "}\n",
        "\n",
        "# 1.1. Adding a new value to the dictionary\n",
        "student_dict[106] = \"Frank\"\n",
        "\n",
        "# 1.2. Updating the value in the dictionary\n",
        "student_dict[102] = \"Benjamin\"  # Update Bob's name\n",
        "\n",
        "# 1.3. Accessing the value in the dictionary\n",
        "student_id = 103\n",
        "if student_id in student_dict:\n",
        "    print(f\"Student ID {student_id} corresponds to {student_dict[student_id]}\")\n",
        "\n",
        "# 1.4. Create a nested dictionary (Dictionary of dictionaries)\n",
        "student_details = {\n",
        "    101: {\"name\": \"Alice\", \"age\": 20},\n",
        "    102: {\"name\": \"Benjamin\", \"age\": 22},\n",
        "    103: {\"name\": \"Charlie\", \"age\": 21}\n",
        "}\n",
        "\n",
        "# 1.5. Accessing values in the nested dictionary\n",
        "student_id = 101\n",
        "if student_id in student_details:\n",
        "    name = student_details[student_id][\"name\"]\n",
        "    age = student_details[student_id][\"age\"]\n",
        "    print(f\"Student ID {student_id} has name: {name} and age: {age}\")\n",
        "\n",
        "# 1.6. Printing the keys in the dictionary\n",
        "print(\"Student IDs in the dictionary:\")\n",
        "for student_id in student_dict:\n",
        "    print(student_id)\n",
        "\n",
        "# 1.7. Deleting a value from the dictionary\n",
        "del student_dict[104]  # Remove David's record\n",
        "\n",
        "# Print the updated dictionary\n",
        "print(\"Updated Student Dictionary:\")\n",
        "for student_id, name in student_dict.items():\n",
        "    print(f\"Student ID {student_id}: {name}\")\n"
      ]
    }
  ]
}