{
  "nbformat": 4,
  "nbformat_minor": 0,
  "metadata": {
    "colab": {
      "provenance": []
    },
    "kernelspec": {
      "name": "python3",
      "display_name": "Python 3"
    },
    "language_info": {
      "name": "python"
    }
  },
  "cells": [
    {
      "cell_type": "code",
      "execution_count": 1,
      "metadata": {
        "colab": {
          "base_uri": "https://localhost:8080/"
        },
        "id": "O_02HZ8KBHdI",
        "outputId": "d6e60c6d-fabe-44e5-d7a4-eb681ca17c56"
      },
      "outputs": [
        {
          "output_type": "stream",
          "name": "stdout",
          "text": [
            "No arguments provided\n",
            "One-argument method: arg1=First Argument\n",
            "Two-argument method: arg1=First Argument, arg2=Second Argument\n"
          ]
        }
      ],
      "source": [
        "#Write two methods with the same name but different number of parameters of same type and call the methods\n",
        "class MyClass:\n",
        "    def example_method(self, arg1=None, arg2=None):\n",
        "        if arg1 is not None and arg2 is not None:\n",
        "            print(f\"Two-argument method: arg1={arg1}, arg2={arg2}\")\n",
        "        elif arg1 is not None:\n",
        "            print(f\"One-argument method: arg1={arg1}\")\n",
        "        else:\n",
        "            print(\"No arguments provided\")\n",
        "\n",
        "if __name__ == \"__main__\":\n",
        "    obj = MyClass()\n",
        "\n",
        "    obj.example_method()  # Call with no arguments\n",
        "    obj.example_method(\"First Argument\")  # Call with one argument\n",
        "    obj.example_method(\"First Argument\", \"Second Argument\")  # Call with two arguments\n"
      ]
    },
    {
      "cell_type": "code",
      "source": [
        "#2)Write two methods with the same name but different number of parameters of different data type and call the methods\n",
        "class MyClass:\n",
        "    def example_method(self, arg1, arg2=None):\n",
        "        if arg2 is None:\n",
        "            if isinstance(arg1, int):\n",
        "                print(f\"One-argument method with an integer: arg1={arg1}\")\n",
        "            elif isinstance(arg1, str):\n",
        "                print(f\"One-argument method with a string: arg1={arg1}\")\n",
        "        else:\n",
        "            if isinstance(arg1, int) and isinstance(arg2, str):\n",
        "                print(f\"Two-argument method with int and str: arg1={arg1}, arg2={arg2}\")\n",
        "            elif isinstance(arg1, str) and isinstance(arg2, int):\n",
        "                print(f\"Two-argument method with str and int: arg1={arg1}, arg2={arg2}\")\n",
        "\n",
        "if __name__ == \"__main__\":\n",
        "    obj = MyClass()\n",
        "\n",
        "    obj.example_method(42)  # Call with one integer argument\n",
        "    obj.example_method(\"Hello\")  # Call with one string argument\n",
        "    obj.example_method(10, \"World\")  # Call with an integer and a string\n",
        "    obj.example_method(\"Apple\", 5)  # Call with a string and an integer\n",
        "\n"
      ],
      "metadata": {
        "colab": {
          "base_uri": "https://localhost:8080/"
        },
        "id": "WVk-E5-VBbnl",
        "outputId": "7f759261-4144-4790-ed19-75c986eeb397"
      },
      "execution_count": 2,
      "outputs": [
        {
          "output_type": "stream",
          "name": "stdout",
          "text": [
            "One-argument method with an integer: arg1=42\n",
            "One-argument method with a string: arg1=Hello\n",
            "Two-argument method with int and str: arg1=10, arg2=World\n",
            "Two-argument method with str and int: arg1=Apple, arg2=5\n"
          ]
        }
      ]
    },
    {
      "cell_type": "code",
      "source": [
        "#3)Write two methods with the same name and same number of parameters of same type\n",
        "class MyClass:\n",
        "    def same_name_method(self, arg):\n",
        "        print(f\"Method 1: arg={arg}\")\n",
        "\n",
        "    def same_name_method(self, arg):\n",
        "        print(f\"Method 2: arg={arg}\")\n",
        "\n",
        "if __name__ == \"__main__\":\n",
        "    obj = MyClass()\n",
        "\n",
        "    # Calling the methods with the same name\n",
        "    obj.same_name_method(\"Method 1\")\n",
        "    obj.same_name_method(\"Method 2\")\n"
      ],
      "metadata": {
        "colab": {
          "base_uri": "https://localhost:8080/"
        },
        "id": "pPfoV5knBsLM",
        "outputId": "b0c98a1a-5747-4803-a713-4e4f78915f50"
      },
      "execution_count": 3,
      "outputs": [
        {
          "output_type": "stream",
          "name": "stdout",
          "text": [
            "Method 2: arg=Method 1\n",
            "Method 2: arg=Method 2\n"
          ]
        }
      ]
    }
  ]
}