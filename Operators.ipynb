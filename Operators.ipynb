{
  "nbformat": 4,
  "nbformat_minor": 0,
  "metadata": {
    "colab": {
      "provenance": []
    },
    "kernelspec": {
      "name": "python3",
      "display_name": "Python 3"
    },
    "language_info": {
      "name": "python"
    }
  },
  "cells": [
    {
      "cell_type": "code",
      "execution_count": 2,
      "metadata": {
        "colab": {
          "base_uri": "https://localhost:8080/"
        },
        "id": "4Dra53iuzbIk",
        "outputId": "264e97de-75e0-4396-af83-8dae2b034f51"
      },
      "outputs": [
        {
          "output_type": "stream",
          "name": "stdout",
          "text": [
            "10 + 5 = 15\n",
            "10 - 5 = 5\n",
            "10 * 5 = 50\n",
            "10 / 5 = 2.0\n"
          ]
        }
      ],
      "source": [
        "#1)Write a function for arithmetic operators (+,-,*,/) ?\n",
        "def arithmetic_operation(num1, num2, operator):\n",
        "    if operator == '+':\n",
        "        return num1 + num2\n",
        "    elif operator == '-':\n",
        "        return num1 - num2\n",
        "    elif operator == '*':\n",
        "        return num1 * num2\n",
        "    elif operator == '/':\n",
        "        if num2 == 0:\n",
        "            return \"Division by zero is not allowed\"\n",
        "        else:\n",
        "            return num1 / num2\n",
        "    else:\n",
        "        return \"Wrong operation please check...\"\n",
        "\n",
        "result = arithmetic_operation(10, 5, '+')\n",
        "print(\"10 + 5 =\", result)\n",
        "\n",
        "result = arithmetic_operation(10, 5, '-')\n",
        "print(\"10 - 5 =\", result)\n",
        "\n",
        "result = arithmetic_operation(10, 5, '*')\n",
        "print(\"10 * 5 =\", result)\n",
        "\n",
        "result = arithmetic_operation(10, 5, '/')\n",
        "print(\"10 / 5 =\", result)\n"
      ]
    },
    {
      "cell_type": "code",
      "source": [
        "#2)Write a method for increment and decrement operators(++, --)?\n",
        "def increment(variable):\n",
        "    return variable + 1\n",
        "\n",
        "def decrement(variable):\n",
        "    return variable - 1\n",
        "#let the variable be 'var'\n",
        "var = 5\n",
        "\n",
        "# Increment\n",
        "var = increment(var)\n",
        "print(\"After increment:\", var)  # This will print 6\n",
        "\n",
        "# Decrement\n",
        "var = decrement(var)\n",
        "print(\"After decrement:\", var)  # This will print 5\n"
      ],
      "metadata": {
        "colab": {
          "base_uri": "https://localhost:8080/"
        },
        "id": "SZygnFkl0fnD",
        "outputId": "d1cf8c4f-4e1a-4567-c2a0-ca3ca9cb8b9e"
      },
      "execution_count": 3,
      "outputs": [
        {
          "output_type": "stream",
          "name": "stdout",
          "text": [
            "After increment: 6\n",
            "After decrement: 5\n"
          ]
        }
      ]
    },
    {
      "cell_type": "code",
      "source": [
        "#3)Write a program to find the two numbers equal or not ?\n",
        "num1 = int(input(\"Enter the first number: \"))\n",
        "num2 = int(input(\"Enter the second number: \"))\n",
        "#condition to find the numbers are equal or not\n",
        "if num1 == num2:\n",
        "    print(\"The two numbers are equal\")\n",
        "else:\n",
        "    print(\"The two numbers are not equal\")\n"
      ],
      "metadata": {
        "colab": {
          "base_uri": "https://localhost:8080/"
        },
        "id": "cl9RVaxr2hDo",
        "outputId": "e65b39e1-7513-40ae-a70a-421414c31e02"
      },
      "execution_count": 4,
      "outputs": [
        {
          "output_type": "stream",
          "name": "stdout",
          "text": [
            "Enter the first number: 5\n",
            "Enter the second number: 6\n",
            "The two numbers are not equal\n"
          ]
        }
      ]
    },
    {
      "cell_type": "code",
      "source": [
        "#4)Program for relational operators (<,<==,>,>==)?\n",
        "num1 = int(input(\"Enter the first number: \"))\n",
        "num2 = int(input(\"Enter the second number: \"))\n",
        "\n",
        "# Comparing the numbers using relational operators....\n",
        "if num1 < num2:\n",
        "    print(f\"{num1} is less than {num2}\")\n",
        "elif num1 <= num2:\n",
        "    print(f\"{num1} is less than or equal to {num2}\")\n",
        "elif num1 > num2:\n",
        "    print(f\"{num1} is greater than {num2}\")\n",
        "elif num1 >= num2:\n",
        "    print(f\"{num1} is greater than or equal to {num2}\")\n",
        "else:\n",
        "    print(f\"{num1} and {num2} are not directly comparable\")\n",
        "\n"
      ],
      "metadata": {
        "colab": {
          "base_uri": "https://localhost:8080/"
        },
        "id": "gnvKClHy3hip",
        "outputId": "a92fb94b-fc9d-41ea-e426-876bd8aa479f"
      },
      "execution_count": 6,
      "outputs": [
        {
          "output_type": "stream",
          "name": "stdout",
          "text": [
            "Enter the first number: 6\n",
            "Enter the second number: 6\n",
            "6 is less than or equal to 6\n"
          ]
        }
      ]
    },
    {
      "cell_type": "code",
      "source": [
        "#5)Print the smaller and larger number's ?\n",
        "num1 = int(input(\"Enter the first number: \"))\n",
        "num2 = int(input(\"Enter the second number: \"))\n",
        "\n",
        "# Comparing the numbers and printing the smaller and larger numbers\n",
        "if num1 < num2:\n",
        "    print(f'{num1} is the smaller number, and {num2} is the larger number.')\n",
        "elif num1 > num2:\n",
        "    print(f'{num2} is the smaller number, and {num1} is the larger number.')\n",
        "else:\n",
        "    print(f'Both {num1} and {num2} are equal.')\n"
      ],
      "metadata": {
        "colab": {
          "base_uri": "https://localhost:8080/"
        },
        "id": "WnqPVn2V4GY4",
        "outputId": "17089e62-df32-4c0f-88b3-c710d119cf4d"
      },
      "execution_count": 7,
      "outputs": [
        {
          "output_type": "stream",
          "name": "stdout",
          "text": [
            "Enter the first number: 6\n",
            "Enter the second number: 5\n",
            "5 is the smaller number, and 6 is the larger number.\n"
          ]
        }
      ]
    },
    {
      "cell_type": "code",
      "source": [],
      "metadata": {
        "id": "WgfkD6QV4zNC"
      },
      "execution_count": null,
      "outputs": []
    }
  ]
}