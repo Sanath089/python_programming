{
  "nbformat": 4,
  "nbformat_minor": 0,
  "metadata": {
    "colab": {
      "provenance": []
    },
    "kernelspec": {
      "name": "python3",
      "display_name": "Python 3"
    },
    "language_info": {
      "name": "python"
    }
  },
  "cells": [
    {
      "cell_type": "code",
      "execution_count": null,
      "metadata": {
        "colab": {
          "base_uri": "https://localhost:8080/"
        },
        "id": "RucYFqGn5AkK",
        "outputId": "a87a48de-d1af-415e-b24e-a95e53e81c8d"
      },
      "outputs": [
        {
          "output_type": "stream",
          "name": "stdout",
          "text": [
            "The sum of the integer values in the array is: 21\n"
          ]
        }
      ],
      "source": [
        "#1)Write a function to add integer values of an array?\n",
        "def sum(arr):\n",
        "    total = 0  # Initialize a variable to store the sum\n",
        "    for number in arr:\n",
        "        if isinstance(number, int):  # Checking if the element is an integer\n",
        "            total += number\n",
        "    return total\n",
        "my_array = [1, 2, 3, 4, 5, 6]\n",
        "result = sum(my_array)\n",
        "print(\"The sum of the integer values in the array is:\", result)\n"
      ]
    },
    {
      "cell_type": "code",
      "source": [
        "#2)Write a function to calculate the average value of an array of integers\n",
        "def avg(arr):\n",
        "    if not arr:  # Check if the array is empty to avoid division by zero\n",
        "        return 0  # Return 0 for an empty array\n",
        "    else:\n",
        "       total = sum(arr)\n",
        "    average = total / len(arr)\n",
        "    return average\n",
        "my_array = [1, 2, 3, 4, 5, 6]\n",
        "result = avg(my_array)\n",
        "print(\"The average value of the array is:\", result)\n"
      ],
      "metadata": {
        "colab": {
          "base_uri": "https://localhost:8080/"
        },
        "id": "unCQ6jZC5gpR",
        "outputId": "97147835-f0a0-4b1d-ba3b-2f2fa2be0a99"
      },
      "execution_count": null,
      "outputs": [
        {
          "output_type": "stream",
          "name": "stdout",
          "text": [
            "The average value of the array is: 3.5\n"
          ]
        }
      ]
    },
    {
      "cell_type": "code",
      "source": [
        "#3)Write a program to find the index of an array element?\n",
        "def index_value(arr, search_elem):\n",
        "    for index, element in enumerate(arr):\n",
        "        if element == search_elem:\n",
        "            return index  # Return the index when the element is found\n",
        "    return -1  # If the element is not found, return -1\n",
        "\n",
        "my_array = [10, 20, 30, 40, 50]\n",
        "print(my_array)\n",
        "element = int(input(\"enter number from array : \"))\n",
        "index = index_value(my_array, element)\n",
        "\n",
        "if index != -1:\n",
        "    print(f\"The element {element} is found at index {index}.\")\n",
        "else:\n",
        "    print(f\"The element {element} is not found in the array.\")\n"
      ],
      "metadata": {
        "colab": {
          "base_uri": "https://localhost:8080/"
        },
        "id": "sKnxaIMk6KMm",
        "outputId": "fe273c18-d2ec-4ea5-e350-9059885e71f0"
      },
      "execution_count": null,
      "outputs": [
        {
          "output_type": "stream",
          "name": "stdout",
          "text": [
            "[10, 20, 30, 40, 50]\n",
            "enter number from array : 50\n",
            "The element 50 is found at index 4.\n"
          ]
        }
      ]
    },
    {
      "cell_type": "code",
      "source": [
        "#4)Write a function to test if array contains a specific value?\n",
        "def value_to_find(arr, value_to_find):\n",
        "    return value_to_find in arr\n",
        "\n",
        "my_array = [10, 20, 30, 40, 50]\n",
        "value = 30\n",
        "\n",
        "if value_to_find(my_array, value):\n",
        "    print(f\"The value {value} is found in the array.\")\n",
        "else:\n",
        "    print(f\"The value {value} is not found in the array.\")\n"
      ],
      "metadata": {
        "colab": {
          "base_uri": "https://localhost:8080/"
        },
        "id": "XYd4DiEz-W22",
        "outputId": "56bc2a60-97c8-4501-e7b2-a6594d2a4466"
      },
      "execution_count": null,
      "outputs": [
        {
          "output_type": "stream",
          "name": "stdout",
          "text": [
            "The value 30 is found in the array.\n"
          ]
        }
      ]
    },
    {
      "cell_type": "code",
      "source": [
        "#5)Write a function to remove a specific element from an array\n",
        "def remove_element(arr, element_to_remove):\n",
        "    return [element for element in arr if element != element_to_remove]#list comprehension\n",
        "array = [10, 20, 30, 40, 50]\n",
        "element = 30 #element to be eliminated\n",
        "\n",
        "array = remove_element(array, element)\n",
        "print(f\"The element {element} has been removed. New array: {array}\")\n"
      ],
      "metadata": {
        "id": "JE0SczuRAWbX",
        "colab": {
          "base_uri": "https://localhost:8080/"
        },
        "outputId": "2a65f811-7bab-4b90-e2b7-fdb1de3e4ddd"
      },
      "execution_count": 14,
      "outputs": [
        {
          "output_type": "stream",
          "name": "stdout",
          "text": [
            "The element 30 has been removed. New array: [10, 20, 40, 50]\n"
          ]
        }
      ]
    },
    {
      "cell_type": "code",
      "source": [
        "#6)Write a function to copy an array to another array\n",
        "def copy_array_with_initial_elements(source_array, initial_elements):\n",
        "    destination_array = initial_elements[:]  # Create a copy of the initial elements\n",
        "    destination_array.extend(source_array)  # Add the elements from the source array\n",
        "    return destination_array\n",
        "my_array = [1, 2, 3, 4, 5]\n",
        "initial_elements = [10, 20, 30]\n",
        "new_array = copy_array_with_initial_elements(my_array, initial_elements)\n",
        "\n",
        "print(\"Original array:\", my_array)\n",
        "print(\"New array with initial elements and copied elements:\", new_array)\n",
        "\n"
      ],
      "metadata": {
        "colab": {
          "base_uri": "https://localhost:8080/"
        },
        "id": "jC6ksQ8GBe4w",
        "outputId": "2a613a9d-7917-45a8-ca88-0bf6812301b3"
      },
      "execution_count": 18,
      "outputs": [
        {
          "output_type": "stream",
          "name": "stdout",
          "text": [
            "Original array: [1, 2, 3, 4, 5]\n",
            "New array with initial elements and copied elements: [10, 20, 30, 1, 2, 3, 4, 5]\n"
          ]
        }
      ]
    },
    {
      "cell_type": "code",
      "source": [
        "#7)Write a function to insert an element at a specific position in the array\n",
        "def insert_element(arr, element, position):\n",
        "    if position < 0:\n",
        "        position = 0\n",
        "    if position > len(arr):\n",
        "        position = len(arr)\n",
        "\n",
        "    arr.insert(position, element)\n",
        "    return arr\n",
        "my_array = [1, 2, 3, 4, 5]\n",
        "element_to_insert = 10\n",
        "insert_position = 2\n",
        "new_array = insert_element(my_array, element_to_insert, insert_position)\n",
        "print(\"Original array:\", my_array)\n",
        "print(\"Array with element inserted:\", new_array)\n"
      ],
      "metadata": {
        "colab": {
          "base_uri": "https://localhost:8080/"
        },
        "id": "u5Y-qKWxDBAu",
        "outputId": "119d5880-3085-4415-c16a-3e1bf2a01219"
      },
      "execution_count": 19,
      "outputs": [
        {
          "output_type": "stream",
          "name": "stdout",
          "text": [
            "Original array: [1, 2, 10, 3, 4, 5]\n",
            "Array with element inserted: [1, 2, 10, 3, 4, 5]\n"
          ]
        }
      ]
    },
    {
      "cell_type": "code",
      "source": [
        "#8)Write a function to find the minimum and maximum value of an array?\n",
        "arr = [10, 5, 20, 8, 15]\n",
        "print(\"Array:\", arr)\n",
        "print(\"Minimum value:\", min(arr))\n",
        "print(\"Maximum value:\", max(arr))\n"
      ],
      "metadata": {
        "colab": {
          "base_uri": "https://localhost:8080/"
        },
        "id": "LAZEMrYuDced",
        "outputId": "3cfd57a6-294c-4a46-9c5f-94adf5d608c5"
      },
      "execution_count": 21,
      "outputs": [
        {
          "output_type": "stream",
          "name": "stdout",
          "text": [
            "Array: [10, 5, 20, 8, 15]\n",
            "Minimum value: 5\n",
            "Maximum value: 20\n"
          ]
        }
      ]
    },
    {
      "cell_type": "code",
      "source": [
        "#9)Write a function to reverse an array of integer value\n",
        "arr = [10, 5, 20, 8, 15]\n",
        "print('original array=',arr)\n",
        "print('reversed array=',arr[::-1])"
      ],
      "metadata": {
        "colab": {
          "base_uri": "https://localhost:8080/"
        },
        "id": "1q4TTeFVEQbw",
        "outputId": "4e974b46-def3-4c92-ebb8-3bab62eef9a0"
      },
      "execution_count": 29,
      "outputs": [
        {
          "output_type": "stream",
          "name": "stdout",
          "text": [
            "original array= [10, 5, 20, 8, 15]\n",
            "reversed array= [15, 8, 20, 5, 10]\n"
          ]
        }
      ]
    },
    {
      "cell_type": "code",
      "source": [
        "#10)Write a function to find the duplicate values of an array\n",
        "def find_duplicates(arr):\n",
        "    return list({x for x in arr if arr.count(x) > 1})#count used to find the elements of duplicate values\n",
        "array = [10, 5, 20, 8, 15, 10, 20, 5]\n",
        "duplicate_values = find_duplicates(array)\n",
        "print(\"Original array:\", array)\n",
        "print(\"Duplicate values:\", duplicate_values)\n"
      ],
      "metadata": {
        "colab": {
          "base_uri": "https://localhost:8080/"
        },
        "id": "DQ_u6JZkFMqh",
        "outputId": "052fd846-3c10-4f6f-ee0a-6e5eea944ffd"
      },
      "execution_count": 31,
      "outputs": [
        {
          "output_type": "stream",
          "name": "stdout",
          "text": [
            "Original array: [10, 5, 20, 8, 15, 10, 20, 5]\n",
            "Duplicate values: [10, 20, 5]\n"
          ]
        }
      ]
    },
    {
      "cell_type": "code",
      "source": [
        "#11)Write a program to find the common values between two arrays\n",
        "def find_common_values(arr1, arr2):\n",
        "    set1 = set(arr1)#set can be used for filtration of duplicates\n",
        "    set2 = set(arr2)\n",
        "    common_values = list(set1.intersection(set2))\n",
        "    return common_values\n",
        "array1 = [1, 2, 3, 4, 5]\n",
        "array2 = [3, 4, 5, 6, 7]\n",
        "common_values = find_common_values(array1, array2)\n",
        "print(\"Array 1:\", array1)\n",
        "print(\"Array 2:\", array2)\n",
        "print(\"Common values:\", common_values)"
      ],
      "metadata": {
        "colab": {
          "base_uri": "https://localhost:8080/"
        },
        "id": "h1Pe8qFSGCg2",
        "outputId": "7c90cbff-18b3-493b-b01d-f7845ec11063"
      },
      "execution_count": 32,
      "outputs": [
        {
          "output_type": "stream",
          "name": "stdout",
          "text": [
            "Array 1: [1, 2, 3, 4, 5]\n",
            "Array 2: [3, 4, 5, 6, 7]\n",
            "Common values: [3, 4, 5]\n"
          ]
        }
      ]
    },
    {
      "cell_type": "code",
      "source": [
        "#12)Write a method to remove duplicate elements from an array?\n",
        "def remove_duplicates(arr):\n",
        "    return list(set(arr))\n",
        "arr = [1, 2, 2, 3, 4, 4, 5]\n",
        "array_without_duplicates = remove_duplicates(arr)\n",
        "print(\"Original array:\", arr)\n",
        "print(\"Array without duplicates:\", array_without_duplicates)\n"
      ],
      "metadata": {
        "colab": {
          "base_uri": "https://localhost:8080/"
        },
        "id": "fFYCMvf2HPmi",
        "outputId": "feffbf76-3676-4a76-abec-585598290dac"
      },
      "execution_count": 33,
      "outputs": [
        {
          "output_type": "stream",
          "name": "stdout",
          "text": [
            "Original array: [1, 2, 2, 3, 4, 4, 5]\n",
            "Array without duplicates: [1, 2, 3, 4, 5]\n"
          ]
        }
      ]
    },
    {
      "cell_type": "code",
      "source": [
        "#13)Write a method to find the second largest number in an array\n",
        "def second_largest_num(arr):\n",
        "    if len(arr) < 2:\n",
        "        return \"Array should have at least two elements\"\n",
        "    sorted_arr = sorted(set(arr))\n",
        "    return sorted_arr[-2]\n",
        "my_array = [10, 5, 20, 8, 15]\n",
        "second_largest = second_largest_num(my_array)\n",
        "print(\"Original array:\", my_array)\n",
        "print(\"Second largest number:\", second_largest)\n"
      ],
      "metadata": {
        "colab": {
          "base_uri": "https://localhost:8080/"
        },
        "id": "rOlSAMsQHs2S",
        "outputId": "c92a78ba-51f1-47b7-a286-3d6b53fc7ab4"
      },
      "execution_count": 34,
      "outputs": [
        {
          "output_type": "stream",
          "name": "stdout",
          "text": [
            "Original array: [10, 5, 20, 8, 15]\n",
            "Second largest number: 15\n"
          ]
        }
      ]
    },
    {
      "cell_type": "code",
      "source": [
        "#14)Write a method to find the second largest number in an array?\n",
        "def find_second_largest(arr):\n",
        "    arr = list(set(arr))  # Remove duplicates\n",
        "    if len(arr) < 2:\n",
        "        return \"Array should have at least two unique elements\"\n",
        "    arr.sort()  # Sort the array\n",
        "    return arr[-2]\n",
        "my_array = [10, 5, 20, 8, 15]\n",
        "second_largest = find_second_largest(my_array)\n",
        "\n",
        "print(\"Original array:\", my_array)\n",
        "print(\"Second largest number:\", second_largest)\n"
      ],
      "metadata": {
        "colab": {
          "base_uri": "https://localhost:8080/"
        },
        "id": "-7pdoU-2IX1L",
        "outputId": "31b98d1e-f8db-4223-dc69-998aa86913ca"
      },
      "execution_count": 35,
      "outputs": [
        {
          "output_type": "stream",
          "name": "stdout",
          "text": [
            "Original array: [10, 5, 20, 8, 15]\n",
            "Second largest number: 15\n"
          ]
        }
      ]
    },
    {
      "cell_type": "code",
      "source": [
        "#15)Write a method to find number of even number and odd numbers in an array\n",
        "def count_even_and_odd(arr):\n",
        "    even_count = 0\n",
        "    odd_count = 0\n",
        "    for number in arr:\n",
        "        if number % 2 == 0:\n",
        "            even_count += 1\n",
        "        else:\n",
        "            odd_count += 1\n",
        "    return even_count, odd_count\n",
        "my_array = [1, 2, 3, 4, 5, 6, 7, 8, 9]\n",
        "even_count, odd_count = count_even_and_odd(my_array)\n",
        "print(\"Array:\", my_array)\n",
        "print(\"Number of even numbers:\", even_count)\n",
        "print(\"Number of odd numbers:\", odd_count)\n"
      ],
      "metadata": {
        "colab": {
          "base_uri": "https://localhost:8080/"
        },
        "id": "7TMWEf6RJkDL",
        "outputId": "2bd3cf5e-3db0-48eb-8cf8-0ee6c7ac9ae1"
      },
      "execution_count": 36,
      "outputs": [
        {
          "output_type": "stream",
          "name": "stdout",
          "text": [
            "Array: [1, 2, 3, 4, 5, 6, 7, 8, 9]\n",
            "Number of even numbers: 4\n",
            "Number of odd numbers: 5\n"
          ]
        }
      ]
    },
    {
      "cell_type": "code",
      "source": [
        "#16)Write a function to get the difference of largest and smallest value in Array\n",
        "def difference_largest_smallest(arr):\n",
        "    if not arr:\n",
        "        return \"Array is empty\"\n",
        "    smallest = min(arr)\n",
        "    largest = max(arr)\n",
        "    return largest - smallest\n",
        "array = [10, 5, 20, 8, 15]\n",
        "result = difference_largest_smallest(array)\n",
        "print(\"Array:\", my_array)\n",
        "print(\"Difference between largest and smallest values:\",result)"
      ],
      "metadata": {
        "colab": {
          "base_uri": "https://localhost:8080/"
        },
        "id": "fOJlwYJYLkiL",
        "outputId": "5dbcd27c-2d4b-4186-aa55-80b40b9fc821"
      },
      "execution_count": 37,
      "outputs": [
        {
          "output_type": "stream",
          "name": "stdout",
          "text": [
            "Array: [1, 2, 3, 4, 5, 6, 7, 8, 9]\n",
            "Difference between largest and smallest values: 15\n"
          ]
        }
      ]
    },
    {
      "cell_type": "code",
      "source": [
        "#17)Write a method to verify if the array contains two specified elements(12,23)\n",
        "def specified_elements(arr):\n",
        "    return 12 in arr and 23 in arr\n",
        "my_array = [10, 5, 20, 8, 15, 23]\n",
        "elements = specified_elements(my_array)\n",
        "if elements:\n",
        "    print(\"The array contains both 12 and 23.\")\n",
        "else:\n",
        "    print(\"The array does not contain both 12 and 23.\")\n"
      ],
      "metadata": {
        "colab": {
          "base_uri": "https://localhost:8080/"
        },
        "id": "AID35AHqMkuQ",
        "outputId": "2b986da8-4dcf-41fb-e145-ba712a6a4c8b"
      },
      "execution_count": 39,
      "outputs": [
        {
          "output_type": "stream",
          "name": "stdout",
          "text": [
            "The array does not contain both 12 and 23.\n"
          ]
        }
      ]
    },
    {
      "cell_type": "code",
      "source": [
        "#18)Write a program to remove the duplicate elements and return the new array\n",
        "arr = [1, 2, 2, 3, 4, 4, 5]\n",
        "print(\"Original array:\", arr)\n",
        "print(\"Array without duplicates:\",list(set(arr)))\n"
      ],
      "metadata": {
        "colab": {
          "base_uri": "https://localhost:8080/"
        },
        "id": "U27LGKhlNH8e",
        "outputId": "f11eefe1-9896-40ed-dfeb-8cf8c7fff9ff"
      },
      "execution_count": 42,
      "outputs": [
        {
          "output_type": "stream",
          "name": "stdout",
          "text": [
            "Original array: [1, 2, 2, 3, 4, 4, 5]\n",
            "Array without duplicates: [1, 2, 3, 4, 5]\n"
          ]
        }
      ]
    },
    {
      "cell_type": "code",
      "source": [],
      "metadata": {
        "id": "DLWk-cnpNO3T"
      },
      "execution_count": null,
      "outputs": []
    }
  ]
}