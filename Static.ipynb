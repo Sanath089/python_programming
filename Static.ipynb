{
  "nbformat": 4,
  "nbformat_minor": 0,
  "metadata": {
    "colab": {
      "provenance": []
    },
    "kernelspec": {
      "name": "python3",
      "display_name": "Python 3"
    },
    "language_info": {
      "name": "python"
    }
  },
  "cells": [
    {
      "cell_type": "code",
      "execution_count": 14,
      "metadata": {
        "colab": {
          "base_uri": "https://localhost:8080/"
        },
        "id": "muiEO1If_5MM",
        "outputId": "78b2879d-b907-4246-b659-0ae5b36b1996"
      },
      "outputs": [
        {
          "output_type": "stream",
          "name": "stdout",
          "text": [
            "Static variable: 2\n"
          ]
        }
      ],
      "source": [
        "#1. Define a static variable and access that through a class\n",
        "class MyClass:\n",
        "    static_variable=2\n",
        "#Accessing static variable through class\n",
        "print(\"Static variable:\",MyClass.static_variable)"
      ]
    },
    {
      "cell_type": "code",
      "source": [
        "#2. Define a static variable and access that through a instance\n",
        "class MyClass:\n",
        "    static_variable=2\n",
        "obj=MyClass()\n",
        "#Accessing static variable through instance\n",
        "print(\"Static variable:\",obj.static_variable)"
      ],
      "metadata": {
        "colab": {
          "base_uri": "https://localhost:8080/"
        },
        "id": "38a3sGIyBzUa",
        "outputId": "968719d9-7a05-457c-c92f-0c18236054fe"
      },
      "execution_count": 13,
      "outputs": [
        {
          "output_type": "stream",
          "name": "stdout",
          "text": [
            "Static variable: 2\n"
          ]
        }
      ]
    },
    {
      "cell_type": "code",
      "source": [
        "#3. Define a static variable and change within the instance\n",
        "class MyClass:\n",
        "    static_variable = 2\n",
        "\n",
        "    def change_static_variable(self, new_value):\n",
        "        # Change the static variable within an instance\n",
        "        MyClass.static_variable = new_value\n",
        "\n",
        "# Create instances of MyClass\n",
        "obj = MyClass()\n",
        "\n",
        "# Accessing the static variable through class\n",
        "print(\"Initial Static Variable:\", MyClass.static_variable)\n",
        "\n",
        "# Changing the static variable within an instance\n",
        "obj.change_static_variable(5)\n",
        "\n",
        "# Accessing the updated static variable\n",
        "print(\"Updated Static Variable:\", MyClass.static_variable)\n"
      ],
      "metadata": {
        "colab": {
          "base_uri": "https://localhost:8080/"
        },
        "id": "BdZWVMJyCZXU",
        "outputId": "82abb8c3-0269-42c5-c1e1-2d422a9e8728"
      },
      "execution_count": 12,
      "outputs": [
        {
          "output_type": "stream",
          "name": "stdout",
          "text": [
            "Initial Static Variable: 2\n",
            "Updated Static Variable: 5\n"
          ]
        }
      ]
    },
    {
      "cell_type": "code",
      "source": [
        "#4. Define a static variable and change within the class\n",
        "class MyClass:\n",
        "    static_variable = 2\n",
        "\n",
        "    def change_static_variable(new_value):\n",
        "        # Change the static variable within a class\n",
        "        MyClass.static_variable = new_value\n",
        "\n",
        "# Accessing the static variable through class\n",
        "print(\"Initial Static Variable:\", MyClass.static_variable)\n",
        "\n",
        "# Changing the static variable within the class\n",
        "MyClass.change_static_variable(6)\n",
        "\n",
        "# Accessing the updated static variable\n",
        "print(\"Updated Static Variable:\", MyClass.static_variable)\n"
      ],
      "metadata": {
        "colab": {
          "base_uri": "https://localhost:8080/"
        },
        "id": "1uu8zYkyC3GN",
        "outputId": "264c6a9e-6d0e-4c6c-ecae-8ed8037255be"
      },
      "execution_count": 11,
      "outputs": [
        {
          "output_type": "stream",
          "name": "stdout",
          "text": [
            "Initial Static Variable: 2\n",
            "Updated Static Variable: 6\n"
          ]
        }
      ]
    },
    {
      "cell_type": "code",
      "source": [],
      "metadata": {
        "id": "FSVWzsFgEi6E"
      },
      "execution_count": null,
      "outputs": []
    }
  ]
}