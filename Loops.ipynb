{
  "nbformat": 4,
  "nbformat_minor": 0,
  "metadata": {
    "colab": {
      "provenance": []
    },
    "kernelspec": {
      "name": "python3",
      "display_name": "Python 3"
    },
    "language_info": {
      "name": "python"
    }
  },
  "cells": [
    {
      "cell_type": "code",
      "execution_count": 2,
      "metadata": {
        "colab": {
          "base_uri": "https://localhost:8080/"
        },
        "id": "-XDkrXjn2geO",
        "outputId": "703db821-5cd2-4c7d-9838-fcb20906e32e"
      },
      "outputs": [
        {
          "output_type": "stream",
          "name": "stdout",
          "text": [
            "Bright IT Career\n",
            "Bright IT Career\n",
            "Bright IT Career\n",
            "Bright IT Career\n",
            "Bright IT Career\n",
            "Bright IT Career\n",
            "Bright IT Career\n",
            "Bright IT Career\n",
            "Bright IT Career\n",
            "Bright IT Career\n"
          ]
        }
      ],
      "source": [
        "#1. Write a program to print “Bright IT Career” ten times using for loop\n",
        "\n",
        "for i in range(10):\n",
        "    print(\"Bright IT Career\")"
      ]
    },
    {
      "cell_type": "code",
      "source": [
        "#2. Write a java program to print 1 to 20 numbers using the while loop.\n",
        "i=1\n",
        "while i<=20:\n",
        "    print(i)\n",
        "    i+=1"
      ],
      "metadata": {
        "colab": {
          "base_uri": "https://localhost:8080/"
        },
        "id": "JyXvqEja2voX",
        "outputId": "85e5efc2-63a7-413a-cc3f-6e0fc57c0376"
      },
      "execution_count": 3,
      "outputs": [
        {
          "output_type": "stream",
          "name": "stdout",
          "text": [
            "1\n",
            "2\n",
            "3\n",
            "4\n",
            "5\n",
            "6\n",
            "7\n",
            "8\n",
            "9\n",
            "10\n",
            "11\n",
            "12\n",
            "13\n",
            "14\n",
            "15\n",
            "16\n",
            "17\n",
            "18\n",
            "19\n",
            "20\n"
          ]
        }
      ]
    },
    {
      "cell_type": "code",
      "source": [
        "#3. Program to equal operator and not equal operators\n",
        "a=5\n",
        "b=10\n",
        "\n",
        "if a==b:\n",
        "    print(f'{a} is equal to {b}')\n",
        "else:\n",
        "    print(f'{a} is not equal to {b}')\n",
        "\n",
        "if a!=b:\n",
        "    print(f'{a} is not equal to {b}')\n",
        "else:\n",
        "    print(f'{a} is equal to {b}')"
      ],
      "metadata": {
        "colab": {
          "base_uri": "https://localhost:8080/"
        },
        "id": "cx7fU2-13YNc",
        "outputId": "5f616e07-51f3-45b6-fa7f-53a926d1f012"
      },
      "execution_count": 4,
      "outputs": [
        {
          "output_type": "stream",
          "name": "stdout",
          "text": [
            "5 is not equal to 10\n",
            "5 is not equal to 10\n"
          ]
        }
      ]
    },
    {
      "cell_type": "code",
      "source": [
        "#4. Write a program to print the odd and even numbers.\n",
        "n=20\n",
        "print(f'Even numbers till {n}:')\n",
        "for i in range(0,n+1,2):\n",
        "    print(i)\n",
        "print(f'Odd numbers till {n}:')\n",
        "for i in range(1,n+1,2):\n",
        "    print(i)"
      ],
      "metadata": {
        "colab": {
          "base_uri": "https://localhost:8080/"
        },
        "id": "C-9eWpLb4AgU",
        "outputId": "ad750f79-5b60-480f-f47b-0cea4c9ac762"
      },
      "execution_count": 6,
      "outputs": [
        {
          "output_type": "stream",
          "name": "stdout",
          "text": [
            "Even numbers till 20:\n",
            "0\n",
            "2\n",
            "4\n",
            "6\n",
            "8\n",
            "10\n",
            "12\n",
            "14\n",
            "16\n",
            "18\n",
            "20\n",
            "Odd numbers till 20:\n",
            "1\n",
            "3\n",
            "5\n",
            "7\n",
            "9\n",
            "11\n",
            "13\n",
            "15\n",
            "17\n",
            "19\n"
          ]
        }
      ]
    },
    {
      "cell_type": "code",
      "source": [
        "#5. Write a program to print largest number among three numbers.\n",
        "a=4\n",
        "b=6\n",
        "c=5\n",
        "\n",
        "if a>b and a>c:\n",
        "    print(f'{a} is largest number')\n",
        "elif b>c:\n",
        "    print(f'{b} is largest number')\n",
        "else:\n",
        "    print(f'{c} is largest number')"
      ],
      "metadata": {
        "colab": {
          "base_uri": "https://localhost:8080/"
        },
        "id": "NF43iRfq44Iz",
        "outputId": "6f94f2a9-6334-4c66-bd75-91eb182285db"
      },
      "execution_count": 7,
      "outputs": [
        {
          "output_type": "stream",
          "name": "stdout",
          "text": [
            "6 is largest number\n"
          ]
        }
      ]
    },
    {
      "cell_type": "code",
      "source": [
        "#6. Write a program to print even number between 10 and 20 using while\n",
        "i=10\n",
        "while i<=20:\n",
        "    if i%2==0:\n",
        "        print(i)\n",
        "    i+=1"
      ],
      "metadata": {
        "colab": {
          "base_uri": "https://localhost:8080/"
        },
        "id": "FLnRki_P5R_K",
        "outputId": "55e24104-2da4-41d0-ab79-3906990fe312"
      },
      "execution_count": 8,
      "outputs": [
        {
          "output_type": "stream",
          "name": "stdout",
          "text": [
            "10\n",
            "12\n",
            "14\n",
            "16\n",
            "18\n",
            "20\n"
          ]
        }
      ]
    },
    {
      "cell_type": "code",
      "source": [
        "#7. Write a program to print 1 to 10 using the do-while loop statement.\n",
        "'''\n",
        "Python doesn't have do-while loop like other programming languages, but we can\n",
        "achieve it by giving while as always True and checking the condition at the end.\n",
        "'''\n",
        "i=1\n",
        "while True:\n",
        "    print(i)\n",
        "    i+=1\n",
        "    if i>10:\n",
        "        break"
      ],
      "metadata": {
        "colab": {
          "base_uri": "https://localhost:8080/"
        },
        "id": "S2gIyVwU5zL3",
        "outputId": "6bde8eee-adc0-4026-bc9b-c739dab0d2f4"
      },
      "execution_count": 9,
      "outputs": [
        {
          "output_type": "stream",
          "name": "stdout",
          "text": [
            "1\n",
            "2\n",
            "3\n",
            "4\n",
            "5\n",
            "6\n",
            "7\n",
            "8\n",
            "9\n",
            "10\n"
          ]
        }
      ]
    },
    {
      "cell_type": "code",
      "source": [
        "#8. Write a program to find Armstrong number or not\n",
        "def isArmstrong(num):\n",
        "    no_of_digits=len(str(num))\n",
        "    n=num\n",
        "    Sum=0\n",
        "    while n>0:\n",
        "        digit=n%10\n",
        "        n//=10\n",
        "        Sum+=digit**no_of_digits\n",
        "    return Sum==num\n",
        "\n",
        "num=int(input())\n",
        "if isArmstrong(num):\n",
        "    print(f'{num} is an Armstrong number!')\n",
        "else:\n",
        "    print(f'{num} is not an Armstrong number!')\n"
      ],
      "metadata": {
        "colab": {
          "base_uri": "https://localhost:8080/"
        },
        "id": "bg6iPP_G7Tg-",
        "outputId": "bdf20b07-3089-4abf-a282-6020f2049e07"
      },
      "execution_count": 15,
      "outputs": [
        {
          "output_type": "stream",
          "name": "stdout",
          "text": [
            "153\n",
            "153 is an Armstrong number!\n"
          ]
        }
      ]
    },
    {
      "cell_type": "code",
      "source": [
        "#9. Write a program to find the prime or not.\n",
        "n=17\n",
        "flag=1\n",
        "if n==1:\n",
        "    print(f'{n} is neither prime nor composite')\n",
        "else:\n",
        "    for i in range(2,int(n**(1/2))+1):\n",
        "        if n%i==0:\n",
        "            flag=0\n",
        "            break\n",
        "    if flag:\n",
        "        print(f'{n} is a prime')\n",
        "    else:\n",
        "        print(f'{n} is not a prime')"
      ],
      "metadata": {
        "colab": {
          "base_uri": "https://localhost:8080/"
        },
        "id": "y8QJXNVS9B4Y",
        "outputId": "d2d2d5d7-ba30-42d7-943f-a26ea2f8aa24"
      },
      "execution_count": 21,
      "outputs": [
        {
          "output_type": "stream",
          "name": "stdout",
          "text": [
            "17 is a prime\n"
          ]
        }
      ]
    },
    {
      "cell_type": "code",
      "source": [
        "#10. Write a program to palindrome or not.\n",
        "n=input()\n",
        "if n==n[::-1]:\n",
        "    print(f'{n} is a palindrome')\n",
        "else:\n",
        "    print(f'{n} is not a palindrome')"
      ],
      "metadata": {
        "colab": {
          "base_uri": "https://localhost:8080/"
        },
        "id": "cpzr0HtF-o-_",
        "outputId": "30edb8fe-7858-4199-e470-c90d721768a3"
      },
      "execution_count": 24,
      "outputs": [
        {
          "output_type": "stream",
          "name": "stdout",
          "text": [
            "madam\n",
            "madam is a palindrome\n"
          ]
        }
      ]
    },
    {
      "cell_type": "code",
      "source": [],
      "metadata": {
        "id": "wlFGM5Vj_LyT"
      },
      "execution_count": null,
      "outputs": []
    }
  ]
}