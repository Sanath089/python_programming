{
  "nbformat": 4,
  "nbformat_minor": 0,
  "metadata": {
    "colab": {
      "provenance": []
    },
    "kernelspec": {
      "name": "python3",
      "display_name": "Python 3"
    },
    "language_info": {
      "name": "python"
    }
  },
  "cells": [
    {
      "cell_type": "code",
      "execution_count": 3,
      "metadata": {
        "colab": {
          "base_uri": "https://localhost:8080/"
        },
        "id": "8zq1oVJd9LjX",
        "outputId": "b654b66d-2d97-449d-b1b6-b68b37c8e1ee"
      },
      "outputs": [
        {
          "output_type": "stream",
          "name": "stdout",
          "text": [
            "Default Constructor\n",
            "One Argument Constructor with arg1: Argument1\n",
            "Two Argument Constructor with arg1: Argument1, arg2: Argument2\n"
          ]
        }
      ],
      "source": [
        "#1. Write a class with a default constructor, one argument constructor and two argument constructors. Instantiate the class to call all the constructors of that class from a main class\n",
        "class MyClass:\n",
        "    def __init__(self, arg1=None, arg2=None):\n",
        "        if arg1 is not None and arg2 is not None:\n",
        "            print(f\"Two Argument Constructor with arg1: {arg1}, arg2: {arg2}\")\n",
        "        elif arg1 is not None:\n",
        "            print(f\"One Argument Constructor with arg1: {arg1}\")\n",
        "        else:\n",
        "            print(\"Default Constructor\")\n",
        "\n",
        "if __name__ == \"__main__\":\n",
        "    # Instantiate the class and call the constructors\n",
        "    obj1 = MyClass()\n",
        "    obj2 = MyClass(\"Argument1\")\n",
        "    obj3 = MyClass(\"Argument1\", \"Argument2\")\n",
        "\n"
      ]
    },
    {
      "cell_type": "code",
      "source": [
        "#2. Call the constructors(both default and argument constructors) of super class from a child class\n",
        "class ParentClass:\n",
        "    def __init__(self, arg1=None):\n",
        "        if arg1 is not None:\n",
        "            print(f\"ParentClass One Argument Constructor with arg1: {arg1}\")\n",
        "        else:\n",
        "            print(\"ParentClass Default Constructor\")\n",
        "\n",
        "class ChildClass(ParentClass):\n",
        "    def __init__(self, arg1=None):\n",
        "        super().__init__(arg1)\n",
        "\n",
        "if __name__ == \"__main__\":\n",
        "    child1 = ChildClass()\n",
        "    child2 = ChildClass(\"Argument1\")\n",
        "\n"
      ],
      "metadata": {
        "colab": {
          "base_uri": "https://localhost:8080/"
        },
        "id": "Bsr9ckmO-Cex",
        "outputId": "3c0b2bcc-e8fb-4d49-cb8f-0c3f4fde6f68"
      },
      "execution_count": 5,
      "outputs": [
        {
          "output_type": "stream",
          "name": "stdout",
          "text": [
            "ParentClass Default Constructor\n",
            "ParentClass One Argument Constructor with arg1: Argument1\n"
          ]
        }
      ]
    },
    {
      "cell_type": "code",
      "source": [
        "#3)Apply  public access modifier to the constructor\n",
        "\n",
        "class MyClass:\n",
        "    def __init__(self):\n",
        "        self.public_var = \"This is a public variable\"\n",
        "\n",
        "obj = MyClass()\n",
        "print(obj.public_var)  # Accessing a public variable\n"
      ],
      "metadata": {
        "colab": {
          "base_uri": "https://localhost:8080/"
        },
        "id": "-eYtKZFf-p3I",
        "outputId": "3f554d77-d5a1-40e0-cfce-1ad5acdd5198"
      },
      "execution_count": 6,
      "outputs": [
        {
          "output_type": "stream",
          "name": "stdout",
          "text": [
            "This is a public variable\n"
          ]
        }
      ]
    },
    {
      "cell_type": "code",
      "source": [
        "#4) Apply  protected modifier to the constructor\n",
        "class MyClass:\n",
        "    def __init__(self):\n",
        "        self._protected_var = \"This is a protected variable\"\n",
        "\n",
        "obj = MyClass()\n",
        "print(obj._protected_var)  # Accessing a protected variable (no strict enforcement)\n"
      ],
      "metadata": {
        "colab": {
          "base_uri": "https://localhost:8080/"
        },
        "id": "pjZ6ipoU_AlY",
        "outputId": "ef42773c-c793-4aa7-b18b-d2cf639ce21c"
      },
      "execution_count": 8,
      "outputs": [
        {
          "output_type": "stream",
          "name": "stdout",
          "text": [
            "This is a protected variable\n"
          ]
        }
      ]
    },
    {
      "cell_type": "code",
      "source": [
        "#5) Apply private modifiers to the constructor in python\n",
        "class MyClass:\n",
        "    def __init__(self):\n",
        "        self.__private_var = \"This is a private variable\"\n",
        "\n",
        "obj = MyClass()\n",
        "# Accessing a private variable will result in a name mangling, making it less accessible\n",
        "print(obj._MyClass__private_var)\n"
      ],
      "metadata": {
        "colab": {
          "base_uri": "https://localhost:8080/"
        },
        "id": "FnZcPlfQ_LzZ",
        "outputId": "de7e913a-edba-4d47-a079-4cbdf8e33d6a"
      },
      "execution_count": 9,
      "outputs": [
        {
          "output_type": "stream",
          "name": "stdout",
          "text": [
            "This is a private variable\n"
          ]
        }
      ]
    },
    {
      "cell_type": "code",
      "source": [
        "#6)Write a program which illustrates the concept of attributes of a constructor\n",
        "class Student:\n",
        "    def __init__(self, name, age):\n",
        "        # Constructor with attributes\n",
        "        self.name = name\n",
        "        self.age = age\n",
        "\n",
        "if __name__ == \"__main__\":\n",
        "    # Create instances of the Student class with attributes\n",
        "    student1 = Student(\"Alice\", 20)\n",
        "    student2 = Student(\"Bob\", 22)\n",
        "\n",
        "    # Access and print the attributes of the instances\n",
        "    print(f\"Student 1: Name - {student1.name}, Age - {student1.age}\")\n",
        "    print(f\"Student 2: Name - {student2.name}, Age - {student2.age}\")\n"
      ],
      "metadata": {
        "colab": {
          "base_uri": "https://localhost:8080/"
        },
        "id": "dPlPCvSW_dM3",
        "outputId": "3e229032-8840-4460-a0a9-37792bf53eaa"
      },
      "execution_count": 10,
      "outputs": [
        {
          "output_type": "stream",
          "name": "stdout",
          "text": [
            "Student 1: Name - Alice, Age - 20\n",
            "Student 2: Name - Bob, Age - 22\n"
          ]
        }
      ]
    }
  ]
}