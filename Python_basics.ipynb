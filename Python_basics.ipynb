{
  "nbformat": 4,
  "nbformat_minor": 0,
  "metadata": {
    "colab": {
      "provenance": []
    },
    "kernelspec": {
      "name": "python3",
      "display_name": "Python 3"
    },
    "language_info": {
      "name": "python"
    }
  },
  "cells": [
    {
      "cell_type": "code",
      "execution_count": 1,
      "metadata": {
        "colab": {
          "base_uri": "https://localhost:8080/"
        },
        "id": "rzMLmj-Bu3a8",
        "outputId": "9e574c6b-9fa5-48f4-a911-3d5a7f54a3b6"
      },
      "outputs": [
        {
          "output_type": "stream",
          "name": "stdout",
          "text": [
            "My name is: Sanath Kumar\n"
          ]
        }
      ],
      "source": [
        "#1)write a python program to print your name?\n",
        "name = \"Sanath Kumar\" #stored in a string\n",
        "print(\"My name is:\", name)\n"
      ]
    },
    {
      "cell_type": "code",
      "source": [
        "#2) Write a program for a Single line comment and multi-line comments?\n",
        "# This is a single-line comment in Python.\n",
        "print(\"Hello, World!\")\n"
      ],
      "metadata": {
        "colab": {
          "base_uri": "https://localhost:8080/"
        },
        "id": "QT33JLCVvilJ",
        "outputId": "162a9bda-f0e4-4529-aee7-df9e95deb065"
      },
      "execution_count": 3,
      "outputs": [
        {
          "output_type": "stream",
          "name": "stdout",
          "text": [
            "Hello, World!\n"
          ]
        }
      ]
    },
    {
      "cell_type": "code",
      "source": [
        "#2) Write a program for a Single line comment and multi-line comments?\n",
        "'''\n",
        "This is a multi-line comment\n",
        "in Python. '''\n",
        "print(\"Hello, World!\")\n",
        "\n"
      ],
      "metadata": {
        "colab": {
          "base_uri": "https://localhost:8080/"
        },
        "id": "_dWnw0qXv0Bp",
        "outputId": "8595dd4d-506c-4427-f7a5-08db87ae419f"
      },
      "execution_count": 5,
      "outputs": [
        {
          "output_type": "stream",
          "name": "stdout",
          "text": [
            "Hello, World!\n"
          ]
        }
      ]
    },
    {
      "cell_type": "code",
      "source": [
        "\n",
        "#3) Define variables for different Data Types int, Boolean, char, float, double and print on the Console\n",
        "# Integer\n",
        "integer = 42\n",
        "\n",
        "# Boolean\n",
        "boolean = True\n",
        "\n",
        "# String (represents character)\n",
        "char = 'A'\n",
        "\n",
        "# Float\n",
        "Float = 3.14\n",
        "\n",
        "# Double (Python doesn't have a separate \"double\" type; it uses floats for double-precision)\n",
        "double = 3.14159265359\n",
        "\n",
        "# Printing the variables with their data type\n",
        "print(\"Integer:\", integer)\n",
        "print(\"Boolean:\", boolean)\n",
        "print(\"Char (String):\", char)\n",
        "print(\"Float:\", Float)\n",
        "print(\"Double (Float in Python):\", double)#Python can handle both double and float in one float data-type\n"
      ],
      "metadata": {
        "colab": {
          "base_uri": "https://localhost:8080/"
        },
        "id": "8koNCJnwwbBV",
        "outputId": "aa91023d-0b96-4ba3-ccf9-ffe23e7dcdd5"
      },
      "execution_count": 9,
      "outputs": [
        {
          "output_type": "stream",
          "name": "stdout",
          "text": [
            "Integer: 42\n",
            "Boolean: True\n",
            "Char (String): A\n",
            "Float: 3.14\n",
            "Double (Float in Python): 3.14159265359\n"
          ]
        }
      ]
    },
    {
      "cell_type": "code",
      "source": [
        "#4)Define the local and Global variables with the same name and print both variables and understand the scope of the variables?\n",
        "\n",
        "A = \"A is global variable\"# This is Global variable\n",
        "\n",
        "def variable():\n",
        "    # Local variable with the same name as the global variable\n",
        "    B = \"B is local variable\"\n",
        "\n",
        "    # Printing both the local and global variables\n",
        "    print(\"Inside the function - local variable:\", B)\n",
        "    print(\"Inside the function - global variable:\", globals()['A'])\n",
        "\n",
        "# Call the function\n",
        "variable()\n",
        "\n",
        "# Print the global variable outside the function\n",
        "print(\"Outside the function - global variable:\", A)\n"
      ],
      "metadata": {
        "colab": {
          "base_uri": "https://localhost:8080/"
        },
        "id": "m5hb4LkaxQxg",
        "outputId": "c5b8aa67-e90d-43da-ac30-d7846f0f99bb"
      },
      "execution_count": 12,
      "outputs": [
        {
          "output_type": "stream",
          "name": "stdout",
          "text": [
            "Inside the function - local variable: B is local variable\n",
            "Inside the function - global variable: A is global variable\n",
            "Outside the function - global variable: A is global variable\n"
          ]
        }
      ]
    }
  ]
}