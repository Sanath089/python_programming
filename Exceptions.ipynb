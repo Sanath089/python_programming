{
  "nbformat": 4,
  "nbformat_minor": 0,
  "metadata": {
    "colab": {
      "provenance": []
    },
    "kernelspec": {
      "name": "python3",
      "display_name": "Python 3"
    },
    "language_info": {
      "name": "python"
    }
  },
  "cells": [
    {
      "cell_type": "code",
      "execution_count": null,
      "metadata": {
        "colab": {
          "base_uri": "https://localhost:8080/",
          "height": 245
        },
        "id": "xth2aBO4j-DX",
        "outputId": "ab4ac437-2609-4eb5-d9a8-4594231772b1"
      },
      "outputs": [
        {
          "name": "stdout",
          "output_type": "stream",
          "text": [
            "5\n"
          ]
        },
        {
          "output_type": "error",
          "ename": "ZeroDivisionError",
          "evalue": "ignored",
          "traceback": [
            "\u001b[0;31m---------------------------------------------------------------------------\u001b[0m",
            "\u001b[0;31mZeroDivisionError\u001b[0m                         Traceback (most recent call last)",
            "\u001b[0;32m<ipython-input-22-d30d9e5cafa9>\u001b[0m in \u001b[0;36m<cell line: 4>\u001b[0;34m()\u001b[0m\n\u001b[1;32m      2\u001b[0m \u001b[0ma\u001b[0m\u001b[0;34m=\u001b[0m\u001b[0mint\u001b[0m\u001b[0;34m(\u001b[0m\u001b[0minput\u001b[0m\u001b[0;34m(\u001b[0m\u001b[0;34m)\u001b[0m\u001b[0;34m)\u001b[0m\u001b[0;34m\u001b[0m\u001b[0;34m\u001b[0m\u001b[0m\n\u001b[1;32m      3\u001b[0m \u001b[0mb\u001b[0m\u001b[0;34m=\u001b[0m\u001b[0;36m0\u001b[0m\u001b[0;34m\u001b[0m\u001b[0;34m\u001b[0m\u001b[0m\n\u001b[0;32m----> 4\u001b[0;31m \u001b[0mc\u001b[0m \u001b[0;34m=\u001b[0m \u001b[0ma\u001b[0m\u001b[0;34m/\u001b[0m\u001b[0mb\u001b[0m\u001b[0;34m\u001b[0m\u001b[0;34m\u001b[0m\u001b[0m\n\u001b[0m\u001b[1;32m      5\u001b[0m \u001b[0mprint\u001b[0m\u001b[0;34m(\u001b[0m\u001b[0mc\u001b[0m\u001b[0;34m)\u001b[0m\u001b[0;34m\u001b[0m\u001b[0;34m\u001b[0m\u001b[0m\n",
            "\u001b[0;31mZeroDivisionError\u001b[0m: division by zero"
          ]
        }
      ],
      "source": [
        "#1)Write a program to generate Arithmetic Exception without exception handling\n",
        "a=int(input())\n",
        "b=0\n",
        "c = a/b\n",
        "print(c)"
      ]
    },
    {
      "cell_type": "code",
      "source": [
        " #2)Handle the Arithmetic exception using try-except block\n",
        " try:\n",
        "    a = 5\n",
        "    b = 0\n",
        "    c = a / b  # Attempting to divide by zero\n",
        "    print(f'Result: {c}')\n",
        "except ZeroDivisionError as e:\n",
        "    print(f'Error: {e}')"
      ],
      "metadata": {
        "colab": {
          "base_uri": "https://localhost:8080/"
        },
        "id": "zU-SEzK2r3zg",
        "outputId": "4ce50602-96dc-47c8-dfe0-be69adc510ac"
      },
      "execution_count": null,
      "outputs": [
        {
          "output_type": "stream",
          "name": "stdout",
          "text": [
            "Error: division by zero\n"
          ]
        }
      ]
    },
    {
      "cell_type": "code",
      "source": [
        "#3)Write a method which raise exception, Call that method in main class with try block in python\n",
        "class CustomException(Exception):\n",
        "    def __init__(self, message=\"Custom exception raised\"):\n",
        "        self.message = message\n",
        "        super().__init__(self.message)\n",
        "\n",
        "def raise_custom_exception():\n",
        "    # This method raises the custom exception.\n",
        "    raise CustomException(\"This is a custom exception.\")\n",
        "\n",
        "if __name__ == \"__main__\":\n",
        "    try:\n",
        "        raise_custom_exception()\n",
        "    except CustomException as e:\n",
        "        print(f\"Custom Exception caught: {e}\")\n",
        "\n",
        "\n"
      ],
      "metadata": {
        "colab": {
          "base_uri": "https://localhost:8080/"
        },
        "id": "DIn6sEYutkaQ",
        "outputId": "98ae84a6-0f2d-453c-ff7b-809b14e04bfb"
      },
      "execution_count": 2,
      "outputs": [
        {
          "output_type": "stream",
          "name": "stdout",
          "text": [
            "Custom Exception caught: This is a custom exception.\n"
          ]
        }
      ]
    },
    {
      "cell_type": "code",
      "source": [
        "#4)Write a program with multiple exception blocks in python\n",
        "def divide(a, b):\n",
        "    try:\n",
        "        result = a / b\n",
        "    except ZeroDivisionError:\n",
        "        print(\"Division by zero is not allowed.\")\n",
        "    except ValueError:\n",
        "        print(\"Invalid input value. Please enter valid numbers.\")\n",
        "    except Exception as e:\n",
        "        print(f\"An error occurred: {e}\")\n",
        "    else:\n",
        "        print(f\"Result: {result}\")\n",
        "    finally:\n",
        "        print(\"Execution completed.\")\n",
        "\n",
        "if __name__ == \"__main__\":\n",
        "    try:\n",
        "        a = float(input(\"Enter the numerator: \"))\n",
        "        b = float(input(\"Enter the denominator: \"))\n",
        "        divide(a, b)\n",
        "    except KeyboardInterrupt:\n",
        "        print(\"Program interrupted by the user.\")\n",
        "    except Exception as e:\n",
        "        print(f\"An unexpected error occurred: {e}\")\n"
      ],
      "metadata": {
        "colab": {
          "base_uri": "https://localhost:8080/"
        },
        "id": "REcTSgyj6HDE",
        "outputId": "5df7d0dd-c857-46cf-8ecd-ce6fba520e60"
      },
      "execution_count": 3,
      "outputs": [
        {
          "output_type": "stream",
          "name": "stdout",
          "text": [
            "Enter the numerator: 5\n",
            "Enter the denominator: 0\n",
            "Division by zero is not allowed.\n",
            "Execution completed.\n"
          ]
        }
      ]
    },
    {
      "cell_type": "code",
      "source": [
        "#5)Write a program to create your own exception\n",
        "class MyCustomException(Exception):\n",
        "    def __init__(self, message=\"This is a custom exception\"):\n",
        "        self.message = message\n",
        "        super().__init__(self.message)\n",
        "\n",
        "def example_function(value):\n",
        "    if value < 0:\n",
        "        raise MyCustomException(\"Value cannot be negative.\")\n",
        "\n",
        "if __name__ == \"__main__\":\n",
        "    try:\n",
        "        value = int(input(\"Enter a value: \"))\n",
        "        example_function(value)\n",
        "    except MyCustomException as e:\n",
        "        print(f\"Custom Exception caught: {e}\")\n",
        "    except ValueError:\n",
        "        print(\"Invalid input. Please enter an integer.\")\n",
        "\n"
      ],
      "metadata": {
        "colab": {
          "base_uri": "https://localhost:8080/"
        },
        "id": "Nc4P1psd6dff",
        "outputId": "ba76a0a2-e20c-47ba-c168-db0630a04315"
      },
      "execution_count": 8,
      "outputs": [
        {
          "output_type": "stream",
          "name": "stdout",
          "text": [
            "Enter a value: 5/0\n",
            "Invalid input. Please enter an integer.\n"
          ]
        }
      ]
    },
    {
      "cell_type": "code",
      "source": [
        "#6)Write a program with finally block in python\n",
        "def divide(a, b):\n",
        "    try:\n",
        "        result = a / b\n",
        "    except ZeroDivisionError:\n",
        "        print(\"Division by zero is not allowed.\")\n",
        "    else:\n",
        "        print(f\"Result: {result}\")\n",
        "    finally:\n",
        "        print(\"Execution completed.\")\n",
        "\n",
        "divide(a, b)\n"
      ],
      "metadata": {
        "colab": {
          "base_uri": "https://localhost:8080/"
        },
        "id": "f0lnXIbg7KBk",
        "outputId": "761d4d63-0ff7-4f2e-944d-3dc4f5b66414"
      },
      "execution_count": 9,
      "outputs": [
        {
          "output_type": "stream",
          "name": "stdout",
          "text": [
            "Division by zero is not allowed.\n",
            "Execution completed.\n"
          ]
        }
      ]
    },
    {
      "cell_type": "code",
      "source": [
        "#7)Write a program to generate Arithmetic Exception in python\n",
        "try:\n",
        "    result = 10 / 0  # Division by zero will raise a ZeroDivisionError\n",
        "except ZeroDivisionError as e:\n",
        "    print(f\"Arithmetic Error: {e}\")\n"
      ],
      "metadata": {
        "id": "hcqL00ki78do"
      },
      "execution_count": null,
      "outputs": []
    },
    {
      "cell_type": "code",
      "source": [
        "#8)Write a program to generate FileNotFoundException  in python\n",
        "try:\n",
        "    file_path = \"non_existent_file.txt\"\n",
        "    with open(file_path, \"r\") as file:\n",
        "        content = file.read()\n",
        "except FileNotFoundError as e:\n",
        "    print(f\"File Not Found Error: {e}\")\n"
      ],
      "metadata": {
        "colab": {
          "base_uri": "https://localhost:8080/"
        },
        "id": "T61RuC8u8LMa",
        "outputId": "fabd0e00-dc68-41db-894a-6a9b83b7ebdd"
      },
      "execution_count": 10,
      "outputs": [
        {
          "output_type": "stream",
          "name": "stdout",
          "text": [
            "File Not Found Error: [Errno 2] No such file or directory: 'non_existent_file.txt'\n"
          ]
        }
      ]
    },
    {
      "cell_type": "code",
      "source": [
        "#9)Write a program to generate ClassNotFoundException\n",
        "try:\n",
        "    import non_existent_module  # Try to import a non-existent module\n",
        "except ImportError as e:\n",
        "    print(f\"Import Error: {e}\")\n"
      ],
      "metadata": {
        "colab": {
          "base_uri": "https://localhost:8080/"
        },
        "id": "588D_Oyl8m8u",
        "outputId": "ece669b0-d92f-4224-d7b8-468abae611f4"
      },
      "execution_count": 11,
      "outputs": [
        {
          "output_type": "stream",
          "name": "stdout",
          "text": [
            "Import Error: No module named 'non_existent_module'\n"
          ]
        }
      ]
    },
    {
      "cell_type": "code",
      "source": [
        "#10)Write a program to generate IOException\n",
        "try:\n",
        "    file_path = \"non_existent_file.txt\"\n",
        "    with open(file_path, \"r\") as file:\n",
        "        content = file.read()\n",
        "except IOError as e:\n",
        "    print(f\"IO Error: {e}\")\n"
      ],
      "metadata": {
        "colab": {
          "base_uri": "https://localhost:8080/"
        },
        "id": "RMgxPLSu8xXA",
        "outputId": "f7cc6df7-130c-4cc2-9055-113a86488088"
      },
      "execution_count": 12,
      "outputs": [
        {
          "output_type": "stream",
          "name": "stdout",
          "text": [
            "IO Error: [Errno 2] No such file or directory: 'non_existent_file.txt'\n"
          ]
        }
      ]
    }
  ]
}