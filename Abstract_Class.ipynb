{
  "nbformat": 4,
  "nbformat_minor": 0,
  "metadata": {
    "colab": {
      "provenance": []
    },
    "kernelspec": {
      "name": "python3",
      "display_name": "Python 3"
    },
    "language_info": {
      "name": "python"
    }
  },
  "cells": [
    {
      "cell_type": "code",
      "execution_count": 15,
      "metadata": {
        "id": "0EQeJP2Cp47M"
      },
      "outputs": [],
      "source": [
        "#1. Create an abstract class with abstract and non-abstract methods.\n",
        "from abc import ABC, abstractmethod\n",
        "\n",
        "class MyAbstractClass(ABC):\n",
        "    @abstractmethod\n",
        "    def abstract_method(self):\n",
        "        pass\n",
        "\n",
        "    def non_abstract_method(self):\n",
        "        return \"This is a non-abstract method.\""
      ]
    },
    {
      "cell_type": "code",
      "source": [
        "'''\n",
        "2. Create a sub class for an abstract class. Create an object in the child class\n",
        " for the abstract class and access the non-abstract methods\n",
        "'''\n",
        "class MyDerivedClass(MyAbstractClass):\n",
        "\n",
        "    def abstract_method(self):\n",
        "        return \"This is the implementation of the abstract method.\"\n",
        "\n",
        "obj1 = MyDerivedClass()\n",
        "\n",
        "print(obj1.non_abstract_method())"
      ],
      "metadata": {
        "colab": {
          "base_uri": "https://localhost:8080/"
        },
        "id": "gloSB4f-rTJF",
        "outputId": "6de1095d-cc5c-46a4-da93-4d6568d28e7f"
      },
      "execution_count": 16,
      "outputs": [
        {
          "output_type": "stream",
          "name": "stdout",
          "text": [
            "This is a non-abstract method.\n"
          ]
        }
      ]
    },
    {
      "cell_type": "code",
      "source": [
        "#3. Create an instance for the child class in child class and call abstract methods\n",
        "from abc import ABC, abstractmethod\n",
        "\n",
        "class MyAbstractClass(ABC):\n",
        "    @abstractmethod\n",
        "    def abstract_method(self):\n",
        "        pass\n",
        "\n",
        "class MyDerivedClass(MyAbstractClass):\n",
        "    def abstract_method(self):\n",
        "        return \"This is the implementation of the abstract method in the derived class.\"\n",
        "\n",
        "    def call_abstract_method(self):\n",
        "        result = self.abstract_method()\n",
        "        return result\n",
        "\n",
        "obj = MyDerivedClass()\n",
        "\n",
        "result = obj.call_abstract_method()\n",
        "print(result)\n"
      ],
      "metadata": {
        "colab": {
          "base_uri": "https://localhost:8080/"
        },
        "id": "wXIAj9zFsFrb",
        "outputId": "e793d7c0-8533-4d2f-8d32-ce1175964cae"
      },
      "execution_count": 17,
      "outputs": [
        {
          "output_type": "stream",
          "name": "stdout",
          "text": [
            "This is the implementation of the abstract method in the derived class.\n"
          ]
        }
      ]
    },
    {
      "cell_type": "code",
      "source": [
        "#4. Create an instance for the child class in child class and call non-abstract methods\n",
        "from abc import ABC, abstractmethod\n",
        "\n",
        "class MyAbstractClass(ABC):\n",
        "    @abstractmethod\n",
        "    def abstract_method(self):\n",
        "        pass\n",
        "    def non_abstract_method(self):\n",
        "        return \"This is a non-abstract method.\"\n",
        "\n",
        "class MyDerivedClass(MyAbstractClass):\n",
        "    def abstract_method(self):\n",
        "        return \"This is the implementation of the abstract method in the derived class.\"\n",
        "\n",
        "    def call_non_abstract_method(self):\n",
        "        result = self.non_abstract_method()\n",
        "        return result\n",
        "\n",
        "obj = MyDerivedClass()\n",
        "\n",
        "result = obj.call_non_abstract_method()\n",
        "print(result)"
      ],
      "metadata": {
        "colab": {
          "base_uri": "https://localhost:8080/"
        },
        "id": "T_qqX-d9sxzh",
        "outputId": "7d7c24e4-f2de-4b7b-c68a-f74592327561"
      },
      "execution_count": 18,
      "outputs": [
        {
          "output_type": "stream",
          "name": "stdout",
          "text": [
            "This is a non-abstract method.\n"
          ]
        }
      ]
    },
    {
      "cell_type": "code",
      "source": [],
      "metadata": {
        "id": "lCwEn43luccN"
      },
      "execution_count": null,
      "outputs": []
    }
  ]
}